{
 "cells": [
  {
   "cell_type": "code",
   "execution_count": 1,
   "id": "e9123059",
   "metadata": {},
   "outputs": [],
   "source": [
    "import os\n",
    "os.chdir(\"C:/Users/SILAMBARASAN R/OneDrive/Desktop/sqlchatbot\")\n"
   ]
  },
  {
   "cell_type": "code",
   "execution_count": 2,
   "id": "a1c5f79f",
   "metadata": {},
   "outputs": [],
   "source": [
    "import sys\n",
    "sys.path.append('./main')"
   ]
  },
  {
   "cell_type": "code",
   "execution_count": 3,
   "id": "a7c58be8",
   "metadata": {},
   "outputs": [],
   "source": [
    "from sql_generator import generate_sql\n",
    "from db_connector import run_query\n",
    "import pandas as pd"
   ]
  },
  {
   "cell_type": "code",
   "execution_count": null,
   "id": "517053dc",
   "metadata": {},
   "outputs": [],
   "source": [
    "\n",
    "while True:\n",
    "    user_input=input(\"You: \")\n",
    "\n",
    "    if(user_input.lower()=='exit'):\n",
    "            print(\"SHIELD: Goodbye!\")\n",
    "            break\n",
    "    \n",
    "    sql_query=generate_sql(user_input)\n",
    "    print(f\"Generated SQL:\\n{sql_query}\\n\")\n",
    "\n",
    "    \n",
    "    results=run_query(sql_query)\n",
    "\n",
    "    if isinstance(results,str):\n",
    "            print(f\"SHIELD: {results}\")\n",
    "    elif results:\n",
    "            if isinstance(results,list) and len(results[0])==1:\n",
    "               values=[list(row.values())[0] for row in results]\n",
    "        \n",
    "        \n",
    "               print(\"Shield:\",\", \".join(str(v) for v in values))  \n",
    "            else:\n",
    "               #show full table if more than one column\n",
    "               df=pd.DataFrame(results)\n",
    "               print(\"Shield:\\n\")\n",
    "               display(df)  \n",
    "\n",
    "    else:\n",
    "            print(\"Shield: No results found.\")\n",
    "        \n",
    "        "
   ]
  }
 ],
 "metadata": {
  "kernelspec": {
   "display_name": ".venv",
   "language": "python",
   "name": "python3"
  },
  "language_info": {
   "codemirror_mode": {
    "name": "ipython",
    "version": 3
   },
   "file_extension": ".py",
   "mimetype": "text/x-python",
   "name": "python",
   "nbconvert_exporter": "python",
   "pygments_lexer": "ipython3",
   "version": "3.13.3"
  }
 },
 "nbformat": 4,
 "nbformat_minor": 5
}
